{
 "cells": [
  {
   "cell_type": "markdown",
   "metadata": {
    "collapsed": false,
    "pycharm": {
     "name": "#%% md\n"
    }
   },
   "source": [
    "# Exploring trading pairs\n",
    "\n",
    "An example how to filter and plot candles for pair data\n",
    "\n",
    "We will\n",
    "\n",
    "* Download pair and exchange map (\"the trading universe\")\n",
    "\n",
    "* Filter out SushiSwap pairs\n",
    "\n",
    "* Download 4 hour candle data for all pairs\n",
    "\n",
    "* Display top 10 pairs by their 30d volume, nominated in the USD"
   ]
  },
  {
   "cell_type": "markdown",
   "metadata": {
    "collapsed": false,
    "pycharm": {
     "name": "#%% md\n"
    }
   },
   "source": [
    "First let's import libraries and initialise our dataset client."
   ]
  },
  {
   "cell_type": "code",
   "execution_count": 1,
   "metadata": {
    "collapsed": false,
    "pycharm": {
     "name": "#%%\n"
    }
   },
   "outputs": [
    {
     "name": "stdout",
     "output_type": "stream",
     "text": [
      "Started Trading Strategy in Jupyter notebook environment, configuration is stored in /Users/moo/.tradingstrategy\n"
     ]
    }
   ],
   "source": [
    "try:\n",
    "    import tradingstrategy\n",
    "except ImportError:\n",
    "    %pip install trading-strategy\n",
    "    import site\n",
    "    site.main()\n",
    "\n",
    "from tradingstrategy.client import Client\n",
    "\n",
    "client = Client.create_jupyter_client()"
   ]
  },
  {
   "cell_type": "markdown",
   "metadata": {
    "collapsed": false,
    "pycharm": {
     "name": "#%% md\n"
    }
   },
   "source": [
    "Get the map of exchanges and pairs we are working on"
   ]
  },
  {
   "cell_type": "code",
   "execution_count": 2,
   "metadata": {
    "collapsed": false,
    "pycharm": {
     "name": "#%%\n"
    }
   },
   "outputs": [
    {
     "name": "stdout",
     "output_type": "stream",
     "text": [
      "Total pairs 56441, total exchanges 256\n"
     ]
    }
   ],
   "source": [
    "from tradingstrategy.exchange import ExchangeUniverse\n",
    "from pyarrow import Table\n",
    "\n",
    "# Exchange map data is so small it does not need any decompression\n",
    "exchange_universe: ExchangeUniverse = client.fetch_exchange_universe()\n",
    "\n",
    "# Decompress the pair dataset to Python map\n",
    "columnar_pair_table: Table = client.fetch_pair_universe()\n",
    "\n",
    "print(f\"Total pairs {len(columnar_pair_table)}, total exchanges {len(exchange_universe.exchanges)}\")"
   ]
  },
  {
   "cell_type": "markdown",
   "metadata": {
    "collapsed": false
   },
   "source": [
    "## Filtering pairs trading on Sushiswap\n",
    "\n",
    "We are only interested in SushiSwap, the mosh pit of a degens, so filter pairs that are on this exchange only.\n",
    "We specifically pick Sushiswap on Ethereum mainnet,\n",
    "as it is the oldest and most active for all Sushiswap instances across EVM blockchains like Polygon, BSC, Fantom, etc.\n",
    "\n",
    "Also we do not yet have multichain data on the dataset server, when I am writing this tutorial so..."
   ]
  },
  {
   "cell_type": "code",
   "execution_count": 3,
   "metadata": {
    "collapsed": false,
    "pycharm": {
     "name": "#%%\n"
    }
   },
   "outputs": [
    {
     "name": "stdout",
     "output_type": "stream",
     "text": [
      "Sushiswap on Ethereum has 1941 pairs\n"
     ]
    }
   ],
   "source": [
    "import pandas as pd\n",
    "from tradingstrategy.chain import ChainId\n",
    "\n",
    "# Convert PyArrow table to Pandas format to continue working on it\n",
    "all_pairs_dataframe = columnar_pair_table.to_pandas()\n",
    "\n",
    "# Filter down to pairs that only trade on Sushiswap\n",
    "sushi_swap = exchange_universe.get_by_chain_and_slug(ChainId.ethereum, \"sushi\")\n",
    "sushi_pairs: pd.DataFrame = all_pairs_dataframe.loc[all_pairs_dataframe['exchange_id'] == sushi_swap.exchange_id]\n",
    "\n",
    "print(f\"Sushiswap on Ethereum has {len(sushi_pairs)} pairs\")"
   ]
  },
  {
   "cell_type": "markdown",
   "metadata": {
    "collapsed": false,
    "pycharm": {
     "name": "#%% md\n"
    }
   },
   "source": [
    "## Calculating combined buy and sell volume\n",
    "\n",
    "Now let's get pairs sorted out by 30d buy and sell volume"
   ]
  },
  {
   "cell_type": "code",
   "execution_count": 4,
   "metadata": {
    "collapsed": false,
    "pycharm": {
     "name": "#%%\n"
    }
   },
   "outputs": [
    {
     "name": "stdout",
     "output_type": "stream",
     "text": [
      "total_30d_volume column sum added\n"
     ]
    }
   ],
   "source": [
    "# Avoid doing set operations on a Pandas read-only view\n",
    "# https://stackoverflow.com/questions/20625582/how-to-deal-with-settingwithcopywarning-in-pandas\n",
    "sushi_pairs = sushi_pairs.copy()\n",
    "total_volume_30d = sushi_pairs[\"buy_volume_30d\"] + sushi_pairs[\"sell_volume_30d\"]\n",
    "sushi_pairs[\"total_30d_volume\"] = total_volume_30d\n",
    "# Sort by highest volume firs   t\n",
    "sushi_pairs = sushi_pairs.sort_values(\"total_30d_volume\", ascending=False)\n",
    "\n",
    "print(\"total_30d_volume column sum added\")"
   ]
  },
  {
   "cell_type": "markdown",
   "metadata": {
    "collapsed": false,
    "pycharm": {
     "name": "#%% md\n"
    }
   },
   "source": [
    "## Output table for top-10 pairs\n",
    "\n",
    "Then let's see the top 10 pairs we got and choose colums to display."
   ]
  },
  {
   "cell_type": "code",
   "execution_count": 5,
   "metadata": {
    "collapsed": false,
    "pycharm": {
     "name": "#%%\n"
    }
   },
   "outputs": [
    {
     "data": {
      "text/html": [
       "<style type=\"text/css\">\n",
       "</style>\n",
       "<table id=\"T_02eb2_\">\n",
       "  <thead>\n",
       "    <tr>\n",
       "      <th class=\"col_heading level0 col0\" >Base token</th>\n",
       "      <th class=\"col_heading level0 col1\" >Quote token</th>\n",
       "      <th class=\"col_heading level0 col2\" >Volume 30d USD</th>\n",
       "    </tr>\n",
       "  </thead>\n",
       "  <tbody>\n",
       "    <tr>\n",
       "      <td id=\"T_02eb2_row0_col0\" class=\"data row0 col0\" >WETH</td>\n",
       "      <td id=\"T_02eb2_row0_col1\" class=\"data row0 col1\" >USDC</td>\n",
       "      <td id=\"T_02eb2_row0_col2\" class=\"data row0 col2\" >$1,439,525,376.00</td>\n",
       "    </tr>\n",
       "    <tr>\n",
       "      <td id=\"T_02eb2_row1_col0\" class=\"data row1 col0\" >SUSHI</td>\n",
       "      <td id=\"T_02eb2_row1_col1\" class=\"data row1 col1\" >WETH</td>\n",
       "      <td id=\"T_02eb2_row1_col2\" class=\"data row1 col2\" >$1,056,032,384.00</td>\n",
       "    </tr>\n",
       "    <tr>\n",
       "      <td id=\"T_02eb2_row2_col0\" class=\"data row2 col0\" >WETH</td>\n",
       "      <td id=\"T_02eb2_row2_col1\" class=\"data row2 col1\" >USDT</td>\n",
       "      <td id=\"T_02eb2_row2_col2\" class=\"data row2 col2\" >$939,808,640.00</td>\n",
       "    </tr>\n",
       "    <tr>\n",
       "      <td id=\"T_02eb2_row3_col0\" class=\"data row3 col0\" >EDEN</td>\n",
       "      <td id=\"T_02eb2_row3_col1\" class=\"data row3 col1\" >WETH</td>\n",
       "      <td id=\"T_02eb2_row3_col2\" class=\"data row3 col2\" >$674,849,920.00</td>\n",
       "    </tr>\n",
       "    <tr>\n",
       "      <td id=\"T_02eb2_row4_col0\" class=\"data row4 col0\" >WETH</td>\n",
       "      <td id=\"T_02eb2_row4_col1\" class=\"data row4 col1\" >DAI</td>\n",
       "      <td id=\"T_02eb2_row4_col2\" class=\"data row4 col2\" >$673,882,688.00</td>\n",
       "    </tr>\n",
       "    <tr>\n",
       "      <td id=\"T_02eb2_row5_col0\" class=\"data row5 col0\" >WETH</td>\n",
       "      <td id=\"T_02eb2_row5_col1\" class=\"data row5 col1\" >WBTC</td>\n",
       "      <td id=\"T_02eb2_row5_col2\" class=\"data row5 col2\" >$431,728,320.00</td>\n",
       "    </tr>\n",
       "    <tr>\n",
       "      <td id=\"T_02eb2_row6_col0\" class=\"data row6 col0\" >CVX</td>\n",
       "      <td id=\"T_02eb2_row6_col1\" class=\"data row6 col1\" >WETH</td>\n",
       "      <td id=\"T_02eb2_row6_col2\" class=\"data row6 col2\" >$320,343,232.00</td>\n",
       "    </tr>\n",
       "    <tr>\n",
       "      <td id=\"T_02eb2_row7_col0\" class=\"data row7 col0\" >OHM</td>\n",
       "      <td id=\"T_02eb2_row7_col1\" class=\"data row7 col1\" >DAI</td>\n",
       "      <td id=\"T_02eb2_row7_col2\" class=\"data row7 col2\" >$268,096,608.00</td>\n",
       "    </tr>\n",
       "    <tr>\n",
       "      <td id=\"T_02eb2_row8_col0\" class=\"data row8 col0\" >LINK</td>\n",
       "      <td id=\"T_02eb2_row8_col1\" class=\"data row8 col1\" >WETH</td>\n",
       "      <td id=\"T_02eb2_row8_col2\" class=\"data row8 col2\" >$265,226,224.00</td>\n",
       "    </tr>\n",
       "    <tr>\n",
       "      <td id=\"T_02eb2_row9_col0\" class=\"data row9 col0\" >YGG</td>\n",
       "      <td id=\"T_02eb2_row9_col1\" class=\"data row9 col1\" >WETH</td>\n",
       "      <td id=\"T_02eb2_row9_col2\" class=\"data row9 col2\" >$259,603,712.00</td>\n",
       "    </tr>\n",
       "  </tbody>\n",
       "</table>\n"
      ],
      "text/plain": [
       "<pandas.io.formats.style.Styler at 0x12ea7eee0>"
      ]
     },
     "execution_count": 5,
     "metadata": {},
     "output_type": "execute_result"
    }
   ],
   "source": [
    "# See Pandas official documentation for table visualisation\n",
    "# https://pandas.pydata.org/pandas-docs/stable/user_guide/style.html\n",
    "\n",
    "output = sushi_pairs[[\"base_token_symbol\", \"quote_token_symbol\", \"total_30d_volume\"]].copy()\n",
    "\n",
    "output.style.format({\n",
    "  'total_30d_volume': lambda val: f'${val:,.2f}',\n",
    "})\n",
    "\n",
    "output = output.rename(columns={\n",
    "    'base_token_symbol': 'Base token',\n",
    "    'quote_token_symbol': 'Quote token',\n",
    "    'total_30d_volume': 'Volume 30d USD'})\n",
    "\n",
    "top_10 = output.head(10)\n",
    "\n",
    "top_10.style.format({\n",
    "  'Volume 30d USD': lambda val: f'${val:,.2f}',\n",
    "}).hide_index()"
   ]
  }
 ],
 "metadata": {
  "kernelspec": {
   "display_name": "Python 3",
   "language": "python",
   "name": "python3"
  },
  "language_info": {
   "codemirror_mode": {
    "name": "ipython",
    "version": 2
   },
   "file_extension": ".py",
   "mimetype": "text/x-python",
   "name": "python",
   "nbconvert_exporter": "python",
   "pygments_lexer": "ipython2",
   "version": "2.7.6"
  }
 },
 "nbformat": 4,
 "nbformat_minor": 0
}
