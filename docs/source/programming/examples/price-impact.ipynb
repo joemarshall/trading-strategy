{
 "cells": [
  {
   "cell_type": "markdown",
   "metadata": {
    "collapsed": false,
    "pycharm": {
     "name": "#%% md\n"
    }
   },
   "source": [
    "# Price impact estimation\n",
    "\n",
    "In this notebook, we show how you can estimate the price impact, also known as slippage, of the simulated historical decentralised exchange trades.\n",
    "\n",
    "The slippage is especially important when trading illiquid assets. If your trade profit is 2% but the sell slippage is also 2% you have essentially not made any profit."
   ]
  },
  {
   "cell_type": "markdown",
   "metadata": {
    "collapsed": false,
    "pycharm": {
     "name": "#%% md\n"
    }
   },
   "source": [
    "## About price impact and slippage on AMMs\n",
    "\n",
    "The slippage is a function of\n",
    "\n",
    "* Available liquidity\n",
    "* Liquidity provider fees\n",
    "* Protocol fees\n",
    "\n",
    "Slippage, also known as price impact, tells how much less your market taker order gets filled because there is not available liquidity.\n",
    "For example, if you are trying to buy 5000 USD worth of BNB token, but there isn't available liquidity\n",
    "you end up with 4980 USD worth of token at the end of the trade. The missing fill is called slippage.\n",
    "It can be expressed as USD value or as percent of the trade amount.\n",
    "Illiquid pairs have more slippage than liquid pairs.\n",
    "\n",
    "In Uniswap v2 style decentralised exchanges any fees are included in the slippage calculation.\n",
    "\n",
    "To understand the liquidity better, [you can interactively view the available liquidity to any trading pair on Trading Strategy website](https://tradingstrategy.ai/trading-view/trading-pairs).\n",
    "\n",
    "For more information read more about [XY=K liquidity model and automated market makers](https://tradingstrategy.ai/docs/glossary.html#term-XY-liquidity-model)."
   ]
  },
  {
   "cell_type": "markdown",
   "metadata": {
    "collapsed": false,
    "pycharm": {
     "name": "#%% md\n"
    }
   },
   "source": [
    "## Getting started\n",
    "\n",
    "First let's import libraries and initialise our Trading Strategy dataset client."
   ]
  },
  {
   "cell_type": "code",
   "execution_count": 4,
   "metadata": {
    "collapsed": false,
    "pycharm": {
     "name": "#%%\n"
    }
   },
   "outputs": [
    {
     "name": "stdout",
     "output_type": "stream",
     "text": [
      "Started Trading Strategy in Jupyter notebook environment, configuration is stored in /Users/moo/.tradingstrategy\n"
     ]
    }
   ],
   "source": [
    "try:\n",
    "    import tradingstrategy\n",
    "except ImportError:\n",
    "    %pip install trading-strategy\n",
    "    import site\n",
    "    site.main()\n",
    "\n",
    "from tradingstrategy.client import Client\n",
    "\n",
    "client = Client.create_jupyter_client()"
   ]
  },
  {
   "cell_type": "markdown",
   "metadata": {
    "collapsed": false,
    "pycharm": {
     "name": "#%% md\n"
    }
   },
   "source": [
    "## Fetching datasets\n",
    "\n",
    "Here we fetch the liquidity data for\n",
    "\n",
    "* [SUSHI-ETH trading pair](https://tradingstrategy.ai/trading-view/ethereum/sushi/sushi-eth)\n",
    "* [Trading on Sushiswap](https://tradingstrategy.ai/trading-view/ethereum/sushi)\n",
    "* [On Ethereum mainnet](https://tradingstrategy.ai/trading-view/ethereum)\n",
    "\n",
    "To make this notebook run fast, we are operating on weekly candles (7 days) to keep the\n",
    "download size of datasets smaller."
   ]
  },
  {
   "cell_type": "code",
   "execution_count": 5,
   "metadata": {
    "collapsed": false,
    "pycharm": {
     "name": "#%%\n"
    }
   },
   "outputs": [],
   "source": [
    "\n",
    "from tradingstrategy.chain import ChainId\n",
    "from tradingstrategy.liquidity import GroupedLiquidityUniverse\n",
    "from tradingstrategy.pair import PandasPairUniverse\n",
    "from tradingstrategy.timebucket import TimeBucket\n",
    "\n",
    "exchange_universe = client.fetch_exchange_universe()\n",
    "raw_pairs = client.fetch_pair_universe().to_pandas()\n",
    "raw_liquidity_samples = client.fetch_all_liquidity_samples(TimeBucket.d7).to_pandas()\n",
    "\n",
    "pair_universe = PandasPairUniverse(raw_pairs)\n",
    "liquidity_universe = GroupedLiquidityUniverse(raw_liquidity_samples)\n",
    "\n",
    "# Do some test calculations for a single pair\n",
    "sushi_swap = exchange_universe.get_by_chain_and_name(ChainId.ethereum, \"sushi\")\n",
    "sushi_eth = pair_universe.get_one_pair_from_pandas_universe(sushi_swap.exchange_id, \"SUSHI\", \"WETH\")"
   ]
  },
  {
   "cell_type": "markdown",
   "metadata": {
    "collapsed": false
   },
   "source": [
    "## Querying historical price impact\n",
    "\n",
    "Here we get the historical price impact what would have been for buying SUSHI for 6000 USD worth of ETH on 1st of June 2021.\n",
    "\n",
    "Unlike many other examples, or the underlying DEX protocol, here we operate on US Dollar amounts.\n",
    "[Any token price is converted to US Dollar through Trading Strategy reference pricing mechanism](https://tradingstrategy.ai/docs/programming/referenceprice.html).\n",
    "\n",
    "Currently Trading Strategy does not automatically fill you with the underlying liquidity provider and protocol fees paid with the transaction.\n",
    "In this example, [we use Sushiswap fee model](https://help.sushidocs.com/products/sushiswap-exchange).\n",
    "You need to give these manually for the price estimator for now."
   ]
  },
  {
   "cell_type": "code",
   "execution_count": 6,
   "metadata": {
    "collapsed": false,
    "pycharm": {
     "name": "#%%\n"
    }
   },
   "outputs": [
    {
     "name": "stdout",
     "output_type": "stream",
     "text": [
      "Trade date: 2021-06-01 00:00:00\n",
      "Liquidity at the time of the trade: 259,676,608.00 USD\n",
      "Price impact: 0.044 %\n",
      "Delivered token amount: 5,984.61 USD\n"
     ]
    }
   ],
   "source": [
    "import pandas as pd\n",
    "from IPython.display import display\n",
    "from tradingstrategy.priceimpact import HistoricalXYPriceImpactCalculator\n",
    "\n",
    "# SUSHI-WETH started trading around 2020-09-01\n",
    "trading_date = pd.Timestamp(\"2021-06-01\")\n",
    "trade_size = 6000.0  # USD\n",
    "\n",
    "# See https://help.sushidocs.com/products/sushiswap-exchange\n",
    "sushi_lp_fee = 0.0025\n",
    "sushi_protocol_fee = 0.0005\n",
    "\n",
    "price_impact_calculator = HistoricalXYPriceImpactCalculator(liquidity_universe, lp_fee=sushi_lp_fee, protocol_fee=sushi_protocol_fee)\n",
    "impact = price_impact_calculator.calculate_price_impact(trading_date, sushi_eth.pair_id, trade_size, max_distance=pd.Timedelta(days=7))\n",
    "\n",
    "# TODO: Show here more details about LP and protocol fees paid\n",
    "# after we have confirmed them with an actual DEX smart contract\n",
    "\n",
    "print(f\"Trade date: {trading_date}\")\n",
    "\n",
    "print(f\"Liquidity at the time of the trade: {impact.available_liquidity:,.2f} USD\")\n",
    "\n",
    "# we get 4 bps slippage\n",
    "print(f\"Price impact: {impact.price_impact*100:.2} %\")\n",
    "\n",
    "# We get 5984 USD worth of SUSHI\n",
    "print(f\"Delivered token amount: {impact.delivered:,.2f} USD\")\n"
   ]
  },
  {
   "cell_type": "markdown",
   "metadata": {
    "collapsed": false
   },
   "source": [
    "## Further info and sources of potential errors\n",
    "\n",
    "Because the lack of liquidity data, the price impact calculation may fail.\n",
    "\n",
    "* Trading pair lacks liquidity data\n",
    "* There is no liquidity data for a specific timestamp (see `max_distance`) parameter\n",
    "\n",
    "See [price impact API documentation](https://tradingstrategy.ai/docs/programming/api/priceimpact.html) for more information."
   ]
  }
 ],
 "metadata": {
  "kernelspec": {
   "display_name": "Python 3 (ipykernel)",
   "language": "python",
   "name": "python3"
  },
  "language_info": {
   "codemirror_mode": {
    "name": "ipython",
    "version": 3
   },
   "file_extension": ".py",
   "mimetype": "text/x-python",
   "name": "python",
   "nbconvert_exporter": "python",
   "pygments_lexer": "ipython3",
   "version": "3.8.1"
  }
 },
 "nbformat": 4,
 "nbformat_minor": 0
}
